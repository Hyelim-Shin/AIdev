{
 "cells": [
  {
   "cell_type": "markdown",
   "id": "c1eaed9d",
   "metadata": {},
   "source": [
    "## Regression(회귀)\n",
    "\n",
    "### Linear Regression (선형 회귀)\n",
    "* 단순 선형 회귀: 하나의 특성(설명 변수(explanatory variable) ```x```)과 연속적인 타깃(응답 변수(response variable) ```y```) 사이의 관계를 모델링.\n",
    "\n",
    "<center>\n",
    "\n",
    "$y={w_1} x + b$\n",
    "\n",
    "</center>"
   ]
  },
  {
   "cell_type": "code",
   "execution_count": 3,
   "id": "284cf8cf",
   "metadata": {},
   "outputs": [
    {
     "data": {
      "text/html": [
       "<img src=\"https://raw.githubusercontent.com/rickiepark/ml-with-pytorch/main/ch09/figures/09_01.png\" width=\"500\"/>"
      ],
      "text/plain": [
       "<IPython.core.display.Image object>"
      ]
     },
     "execution_count": 3,
     "metadata": {},
     "output_type": "execute_result"
    }
   ],
   "source": [
    "from IPython.display import Image\n",
    "Image(url='https://raw.githubusercontent.com/rickiepark/ml-with-pytorch/main/ch09/figures/09_01.png', width=500)"
   ]
  },
  {
   "cell_type": "markdown",
   "id": "a8a9bb60",
   "metadata": {},
   "source": [
    "\n",
    "- 회귀 직선(regression line)\n",
    "- 오프셋(offset), 잔차(residual): 회귀 직선과 훈련 샘플 사이의 직선 거리\n",
    "\n",
    "\n",
    "* 다중 선형 회귀: 여러 개의 특성이 있는 경우로 일반화\n",
    "\n",
    "<center>\n",
    "\n",
    "$y={w_1}{x_1} + ... + {w_m}{x_m} + b = w^T x + b$\n",
    "\n",
    "</center>\n",
    "\n",
    "* 손실 함수: 일반적으로 평균 제곱 오차 (Mean Squared Error, MSE) 사용\n",
    "\n",
    "<center>\n",
    "\n",
    "$L(w,b)= \\sum_{i=1}^{n} (y^{(i)}-\\hat{y}^{(i)})^2$\n",
    "\n",
    "$\\hat{w}= \\frac{\\sum_{i=1}^n (x_i - \\bar{x}) (y_i - \\bar{y})}{\\sum_{i=1}^n (x_i -\\bar{x})^2}$\n",
    "\n",
    "$\\hat{b} = \\bar{y}-\\hat{w} \\bar{x}$\n",
    "\n",
    "</center>\n"
   ]
  },
  {
   "cell_type": "markdown",
   "id": "d050cc25",
   "metadata": {},
   "source": [
    "#### 실습\n",
    "\n",
    "##### 에임스 주택 데이터셋 탐색\n",
    "\n",
    "- `'Overall Qual'`: 주택의 전반적인 건축 재료와 마감에 대한 등급\n",
    "\n",
    "       10\tVery Excellent\n",
    "       9\tExcellent\n",
    "       8\tVery Good\n",
    "       7\tGood\n",
    "       6\tAbove Average\n",
    "       5\tAverage\n",
    "       4\tBelow Average\n",
    "       3\tFair\n",
    "       2\tPoor\n",
    "       1\tVery Poor\n",
    "\n",
    "- `'Overall Cond'`: 주택의 전반적인 상태에 대한 등급\n",
    "\n",
    "       10\tVery Excellent\n",
    "       9\tExcellent\n",
    "       8\tVery Good\n",
    "       7\tGood\n",
    "       6\tAbove Average\n",
    "       5\tAverage\n",
    "       4\tBelow Average\n",
    "       3\tFair\n",
    "       2\tPoor\n",
    "       1\tVery Poor\n",
    "- `'Gr Liv Area'`: 평방 피트(square feet) 단위의 (지상) 거실 면적\n",
    "- `'Central Air'`: 중앙 에어컨\n",
    "\n",
    "       N\tNo\n",
    "       Y\tYes\n",
    "\n",
    "- `'Total Bsmt SF'`: 평방 피트 단위의 지하실 총 면적\n",
    "- `'SalePrice'`: 판매 가격(미국 달러)"
   ]
  },
  {
   "cell_type": "code",
   "execution_count": 1,
   "id": "2128c37e",
   "metadata": {},
   "outputs": [
    {
     "data": {
      "text/html": [
       "<div>\n",
       "<style scoped>\n",
       "    .dataframe tbody tr th:only-of-type {\n",
       "        vertical-align: middle;\n",
       "    }\n",
       "\n",
       "    .dataframe tbody tr th {\n",
       "        vertical-align: top;\n",
       "    }\n",
       "\n",
       "    .dataframe thead th {\n",
       "        text-align: right;\n",
       "    }\n",
       "</style>\n",
       "<table border=\"1\" class=\"dataframe\">\n",
       "  <thead>\n",
       "    <tr style=\"text-align: right;\">\n",
       "      <th></th>\n",
       "      <th>Overall Qual</th>\n",
       "      <th>Overall Cond</th>\n",
       "      <th>Total Bsmt SF</th>\n",
       "      <th>Central Air</th>\n",
       "      <th>Gr Liv Area</th>\n",
       "      <th>SalePrice</th>\n",
       "    </tr>\n",
       "  </thead>\n",
       "  <tbody>\n",
       "    <tr>\n",
       "      <th>0</th>\n",
       "      <td>6</td>\n",
       "      <td>5</td>\n",
       "      <td>1080.0</td>\n",
       "      <td>Y</td>\n",
       "      <td>1656</td>\n",
       "      <td>215000</td>\n",
       "    </tr>\n",
       "    <tr>\n",
       "      <th>1</th>\n",
       "      <td>5</td>\n",
       "      <td>6</td>\n",
       "      <td>882.0</td>\n",
       "      <td>Y</td>\n",
       "      <td>896</td>\n",
       "      <td>105000</td>\n",
       "    </tr>\n",
       "    <tr>\n",
       "      <th>2</th>\n",
       "      <td>6</td>\n",
       "      <td>6</td>\n",
       "      <td>1329.0</td>\n",
       "      <td>Y</td>\n",
       "      <td>1329</td>\n",
       "      <td>172000</td>\n",
       "    </tr>\n",
       "    <tr>\n",
       "      <th>3</th>\n",
       "      <td>7</td>\n",
       "      <td>5</td>\n",
       "      <td>2110.0</td>\n",
       "      <td>Y</td>\n",
       "      <td>2110</td>\n",
       "      <td>244000</td>\n",
       "    </tr>\n",
       "    <tr>\n",
       "      <th>4</th>\n",
       "      <td>5</td>\n",
       "      <td>5</td>\n",
       "      <td>928.0</td>\n",
       "      <td>Y</td>\n",
       "      <td>1629</td>\n",
       "      <td>189900</td>\n",
       "    </tr>\n",
       "  </tbody>\n",
       "</table>\n",
       "</div>"
      ],
      "text/plain": [
       "   Overall Qual  Overall Cond  Total Bsmt SF Central Air  Gr Liv Area  \\\n",
       "0             6             5         1080.0           Y         1656   \n",
       "1             5             6          882.0           Y          896   \n",
       "2             6             6         1329.0           Y         1329   \n",
       "3             7             5         2110.0           Y         2110   \n",
       "4             5             5          928.0           Y         1629   \n",
       "\n",
       "   SalePrice  \n",
       "0     215000  \n",
       "1     105000  \n",
       "2     172000  \n",
       "3     244000  \n",
       "4     189900  "
      ]
     },
     "execution_count": 1,
     "metadata": {},
     "output_type": "execute_result"
    }
   ],
   "source": [
    "import pandas as pd\n",
    "\n",
    "columns = ['Overall Qual', 'Overall Cond', 'Gr Liv Area',\n",
    "           'Central Air', 'Total Bsmt SF', 'SalePrice']\n",
    "\n",
    "df = pd.read_csv('http://jse.amstat.org/v19n3/decock/AmesHousing.txt',\n",
    "                 sep='\\t',\n",
    "                 usecols=columns)\n",
    "\n",
    "df.head()"
   ]
  },
  {
   "cell_type": "code",
   "execution_count": 2,
   "id": "aed529a4",
   "metadata": {},
   "outputs": [
    {
     "data": {
      "text/plain": [
       "(2930, 6)"
      ]
     },
     "execution_count": 2,
     "metadata": {},
     "output_type": "execute_result"
    }
   ],
   "source": [
    "df.shape"
   ]
  },
  {
   "cell_type": "code",
   "execution_count": 3,
   "id": "04cf8a38",
   "metadata": {},
   "outputs": [
    {
     "data": {
      "text/plain": [
       "Overall Qual     0\n",
       "Overall Cond     0\n",
       "Total Bsmt SF    1\n",
       "Central Air      0\n",
       "Gr Liv Area      0\n",
       "SalePrice        0\n",
       "dtype: int64"
      ]
     },
     "execution_count": 3,
     "metadata": {},
     "output_type": "execute_result"
    }
   ],
   "source": [
    "df.isnull().sum()"
   ]
  },
  {
   "cell_type": "code",
   "execution_count": 4,
   "id": "c57e47c8",
   "metadata": {},
   "outputs": [
    {
     "data": {
      "text/plain": [
       "Overall Qual     0\n",
       "Overall Cond     0\n",
       "Total Bsmt SF    0\n",
       "Central Air      0\n",
       "Gr Liv Area      0\n",
       "SalePrice        0\n",
       "dtype: int64"
      ]
     },
     "execution_count": 4,
     "metadata": {},
     "output_type": "execute_result"
    }
   ],
   "source": [
    "# 누락된 값을 포함하고 있는 행을 삭제합니다\n",
    "df = df.dropna(axis=0)\n",
    "df.isnull().sum()"
   ]
  },
  {
   "cell_type": "markdown",
   "id": "eec790ed",
   "metadata": {},
   "source": [
    "##### 사이킷런으로 회귀 모델의 가중치 추정\n",
    "\n",
    "* scikit-learn(사이킷런): 다양한 머신러닝 모델과 데이터 처리 기능을 제공하는 파이썬 라이브러리."
   ]
  },
  {
   "cell_type": "code",
   "execution_count": 5,
   "id": "b2bd429b",
   "metadata": {},
   "outputs": [],
   "source": [
    "from sklearn.linear_model import LinearRegression"
   ]
  },
  {
   "cell_type": "code",
   "execution_count": 6,
   "id": "6c74236f",
   "metadata": {},
   "outputs": [],
   "source": [
    "X = df[['Gr Liv Area']].values\n",
    "y = df['SalePrice'].values"
   ]
  },
  {
   "cell_type": "code",
   "execution_count": 7,
   "id": "0bfdff14",
   "metadata": {},
   "outputs": [
    {
     "name": "stdout",
     "output_type": "stream",
     "text": [
      "기울기: 111.666\n",
      "절편: 13342.979\n"
     ]
    }
   ],
   "source": [
    "slr = LinearRegression()\n",
    "slr.fit(X, y)\n",
    "y_pred = slr.predict(X)\n",
    "print(f'기울기: {slr.coef_[0]:.3f}')\n",
    "print(f'절편: {slr.intercept_:.3f}')"
   ]
  },
  {
   "cell_type": "markdown",
   "id": "3bca54fe",
   "metadata": {},
   "source": [
    "**정규 방정식으로 가중치 구하기**\n",
    "\n",
    "$\\hat{w}= \\frac{\\sum_{i=1}^n (x_i - \\bar{x}) (y_i - \\bar{y})}{\\sum_{i=1}^n (x_i -\\bar{x})^2}$\n",
    "\n",
    "$\\hat{b} = \\bar{y}-\\hat{w} \\bar{x}$"
   ]
  },
  {
   "cell_type": "code",
   "execution_count": 8,
   "id": "18ef2784",
   "metadata": {},
   "outputs": [],
   "source": [
    "import numpy as np"
   ]
  },
  {
   "cell_type": "code",
   "execution_count": 9,
   "id": "3a830956",
   "metadata": {},
   "outputs": [],
   "source": [
    "x_mean = np.mean(X)\n",
    "y_mean = np.mean(y)"
   ]
  },
  {
   "cell_type": "code",
   "execution_count": 10,
   "id": "d2d1937c",
   "metadata": {},
   "outputs": [
    {
     "name": "stdout",
     "output_type": "stream",
     "text": [
      "111.66625842136442 13342.978662354784\n"
     ]
    }
   ],
   "source": [
    "x = X.reshape(y.shape)\n",
    "w = np.sum(np.multiply(x-x_mean,y-y_mean))/np.sum(np.multiply(x-x_mean,x-x_mean))\n",
    "b = y_mean - w * x_mean\n",
    "print(w,b)"
   ]
  },
  {
   "cell_type": "code",
   "execution_count": 11,
   "id": "952a3872",
   "metadata": {},
   "outputs": [
    {
     "data": {
      "image/png": "[encoded data removed]",
      "text/plain": [
       "<Figure size 640x480 with 1 Axes>"
      ]
     },
     "metadata": {},
     "output_type": "display_data"
    }
   ],
   "source": [
    "import matplotlib.pyplot as plt\n",
    "\n",
    "def lin_regplot(X, y, model):\n",
    "    plt.scatter(X, y, c='steelblue', edgecolor='white', s=70)\n",
    "    plt.plot(X, model.predict(X), color='black', lw=2)\n",
    "    return\n",
    "\n",
    "lin_regplot(X, y, slr)\n",
    "plt.xlabel('Living area above ground in square feet')\n",
    "plt.ylabel('Sale price in U.S. dollars')\n",
    "\n",
    "plt.tight_layout()\n",
    "#plt.savefig('figures/09_08.png', dpi=300)\n",
    "plt.show()"
   ]
  },
  {
   "cell_type": "markdown",
   "id": "2b5c1469",
   "metadata": {},
   "source": [
    "##### 선형 회귀 모델의 성능 평가"
   ]
  },
  {
   "cell_type": "code",
   "execution_count": 12,
   "id": "95227fcd",
   "metadata": {},
   "outputs": [],
   "source": [
    "from sklearn.model_selection import train_test_split\n",
    "X_train, X_test, y_train, y_test = train_test_split(\n",
    "    X, y, test_size=0.3, random_state=123)"
   ]
  },
  {
   "cell_type": "code",
   "execution_count": 13,
   "id": "7173cc96",
   "metadata": {},
   "outputs": [],
   "source": [
    "slr = LinearRegression()\n",
    "\n",
    "slr.fit(X_train, y_train)\n",
    "y_train_pred = slr.predict(X_train)\n",
    "y_test_pred = slr.predict(X_test)"
   ]
  },
  {
   "cell_type": "code",
   "execution_count": 14,
   "id": "3199d13e",
   "metadata": {},
   "outputs": [
    {
     "name": "stdout",
     "output_type": "stream",
     "text": [
      "MSE 훈련: 3206362445.63\n",
      "MSE 테스트: 3168407415.32\n"
     ]
    }
   ],
   "source": [
    "from sklearn.metrics import mean_squared_error\n",
    "\n",
    "\n",
    "mse_train = mean_squared_error(y_train, y_train_pred)\n",
    "mse_test = mean_squared_error(y_test, y_test_pred)\n",
    "print(f'MSE 훈련: {mse_train:.2f}')\n",
    "print(f'MSE 테스트: {mse_test:.2f}')"
   ]
  },
  {
   "cell_type": "code",
   "execution_count": 15,
   "id": "bbc77c2e",
   "metadata": {},
   "outputs": [
    {
     "name": "stdout",
     "output_type": "stream",
     "text": [
      "MAE 훈련: 38758.60\n",
      "MAE 테스트: 38345.12\n"
     ]
    }
   ],
   "source": [
    "from sklearn.metrics import mean_absolute_error\n",
    "\n",
    "\n",
    "mae_train = mean_absolute_error(y_train, y_train_pred)\n",
    "mae_test = mean_absolute_error(y_test, y_test_pred)\n",
    "print(f'MAE 훈련: {mae_train:.2f}')\n",
    "print(f'MAE 테스트: {mae_test:.2f}')"
   ]
  },
  {
   "cell_type": "code",
   "execution_count": 16,
   "id": "52946b01",
   "metadata": {},
   "outputs": [
    {
     "name": "stdout",
     "output_type": "stream",
     "text": [
      "R^2 훈련: 0.51\n",
      "R^2 테스트: 0.48\n"
     ]
    }
   ],
   "source": [
    "from sklearn.metrics import r2_score\n",
    "\n",
    "\n",
    "r2_train = r2_score(y_train, y_train_pred)\n",
    "r2_test =r2_score(y_test, y_test_pred)\n",
    "print(f'R^2 훈련: {r2_train:.2f}')\n",
    "print(f'R^2 테스트: {r2_test:.2f}')"
   ]
  },
  {
   "cell_type": "code",
   "execution_count": null,
   "id": "2e983e33",
   "metadata": {},
   "outputs": [],
   "source": [
    "## 실습\n",
    "# 'Overall Qual' 특성을 사용하여 주택 가격을 예측하는 선형 회귀 모델을 훈련하고 평가하세요.\n",
    "# 훈련 및 테스트 세트에 대한 MSE, MAE, R² 점수를 계산하세요."
   ]
  }
 ],
 "metadata": {
  "kernelspec": {
   "display_name": "py310",
   "language": "python",
   "name": "python3"
  },
  "language_info": {
   "codemirror_mode": {
    "name": "ipython",
    "version": 3
   },
   "file_extension": ".py",
   "mimetype": "text/x-python",
   "name": "python",
   "nbconvert_exporter": "python",
   "pygments_lexer": "ipython3",
   "version": "3.10.18"
  }
 },
 "nbformat": 4,
 "nbformat_minor": 5
}
