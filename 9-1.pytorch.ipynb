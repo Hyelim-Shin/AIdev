{
 "cells": [
  {
   "cell_type": "markdown",
   "id": "0166a337",
   "metadata": {},
   "source": [
    "## 1. 벡터, 행렬 그리고 텐서 (Vector, Matrix and Tensor)\n",
    "\n",
    "* 스칼라: 차원이 없는 값\n",
    "* 벡터: 1차원으로 구성된 값 (1d-tensor)\n",
    "* 행렬(Matrix): 2차원으로 구성된 값 (2d-tensor)\n",
    "* 텐서(Tensor): 스칼라, 벡터, 행렬을 포함하는 일반적인 다차원 배열 구조"
   ]
  },
  {
   "cell_type": "code",
   "execution_count": 1,
   "id": "c549dcb3",
   "metadata": {},
   "outputs": [
    {
     "data": {
      "text/html": [
       "<img src=\"https://raw.githubusercontent.com/Hyelim-Shin/AIdev/Images/tensor.png\" width=\"500\"/>"
      ],
      "text/plain": [
       "<IPython.core.display.Image object>"
      ]
     },
     "execution_count": 1,
     "metadata": {},
     "output_type": "execute_result"
    }
   ],
   "source": [
    "from IPython.display import Image\n",
    "Image(url='https://raw.githubusercontent.com/Hyelim-Shin/AIdev/Images/tensor.png', width=500)"
   ]
  },
  {
   "cell_type": "markdown",
   "id": "4040eb63",
   "metadata": {},
   "source": [
    "#### Example"
   ]
  },
  {
   "cell_type": "code",
   "execution_count": 8,
   "id": "98bbd369",
   "metadata": {},
   "outputs": [
    {
     "data": {
      "text/plain": [
       "array([[[0.1, 0.2, 0.9],\n",
       "        [0.3, 0.5, 0.1],\n",
       "        [0.7, 0.6, 0.5]],\n",
       "\n",
       "       [[0.1, 0.2, 0.9],\n",
       "        [0.3, 0.5, 0.2],\n",
       "        [0.7, 0.6, 0.5]],\n",
       "\n",
       "       [[0.1, 0.2, 0.9],\n",
       "        [0.3, 0.5, 0.1],\n",
       "        [0.5, 0.6, 0.7]],\n",
       "\n",
       "       [[0.1, 0.2, 0.9],\n",
       "        [0.3, 0.5, 0.2],\n",
       "        [0.5, 0.6, 0.7]]], dtype=float32)"
      ]
     },
     "execution_count": 8,
     "metadata": {},
     "output_type": "execute_result"
    }
   ],
   "source": [
    "import numpy as np\n",
    "import pandas as pd\n",
    "\n",
    "data = [['나는', '사과를', '좋아해'], ['나는', '바나나를', '좋아해'], ['나는', '사과를', '싫어해'], ['나는', '바나나를', '싫어해']]\n",
    "word2vec = {'나는':[0.1, 0.2, 0.9], '사과를':[0.3, 0.5, 0.1], '바나나를':[0.3, 0.5, 0.2], '좋아해':[0.7, 0.6, 0.5], '싫어해':[0.5, 0.6, 0.7]}\n",
    "\n",
    "vec_data = [[word2vec[word] for word in sentence] for sentence in data]\n",
    "\n",
    "tensor = np.array(vec_data, dtype=np.float32)\n",
    "tensor\n"
   ]
  },
  {
   "cell_type": "code",
   "execution_count": 12,
   "id": "92a43452",
   "metadata": {},
   "outputs": [
    {
     "data": {
      "text/plain": [
       "(4, 3, 3)"
      ]
     },
     "execution_count": 12,
     "metadata": {},
     "output_type": "execute_result"
    }
   ],
   "source": [
    "# (batch size, 문장 길이, 단어 벡터의 차원)\n",
    "tensor.shape"
   ]
  },
  {
   "cell_type": "code",
   "execution_count": null,
   "id": "a277d33f",
   "metadata": {},
   "outputs": [
    {
     "data": {
      "text/html": [
       "<img src=\"https://raw.githubusercontent.com/Hyelim-Shin/AIdev/Images/NLP-3d-tensor.png\" width=\"500\"/>"
      ],
      "text/plain": [
       "<IPython.core.display.Image object>"
      ]
     },
     "execution_count": 10,
     "metadata": {},
     "output_type": "execute_result"
    }
   ],
   "source": [
    "Image(url='https://raw.githubusercontent.com/Hyelim-Shin/AIdev/Images/NLP-3D-tensor.png', width=500)"
   ]
  },
  {
   "cell_type": "markdown",
   "id": "4069dea0",
   "metadata": {},
   "source": []
  },
  {
   "cell_type": "markdown",
   "id": "181f156a",
   "metadata": {},
   "source": [
    "## 2. 파이토치\n",
    "\n",
    "### 1) 파이토치란?\n",
    "* 2016년에 공개된 딥러닝 프레임워크\n",
    "* 루아(Lua) 언어로 개발되었던 토치(Torch)를 FAIR(Facebook AI Research)에서 파이썬 버전으로 내놓은 것\n",
    "* 파이썬의 넘파이(NumPy) 라이브러리처럼 과학연산을 위한 라이브러리로 공개되었지만 이후 발전을 거듭하면서 딥러닝 프레임워크로 발전\n",
    "* GPU에서 텐서 조작 및 동적 신경망 구축이 가능한 프레임워크\n",
    "\n",
    "#### 파이토치 텐서 선언하기"
   ]
  },
  {
   "cell_type": "code",
   "execution_count": null,
   "id": "38c3dac8",
   "metadata": {},
   "outputs": [],
   "source": [
    "import torch"
   ]
  },
  {
   "cell_type": "code",
   "execution_count": 18,
   "id": "a9fc272b",
   "metadata": {},
   "outputs": [
    {
     "name": "stdout",
     "output_type": "stream",
     "text": [
      "tensor([1, 2, 3, 4, 5])\n"
     ]
    }
   ],
   "source": [
    "# 1차원 텐서\n",
    "tensor_1d = torch.tensor([1, 2, 3, 4, 5])\n",
    "print(tensor_1d)"
   ]
  },
  {
   "cell_type": "code",
   "execution_count": 20,
   "id": "b506fa51",
   "metadata": {},
   "outputs": [
    {
     "name": "stdout",
     "output_type": "stream",
     "text": [
      "1\n",
      "torch.Size([5])\n",
      "torch.Size([5])\n"
     ]
    }
   ],
   "source": [
    "print(tensor_1d.dim())  # rank. 즉, 차원\n",
    "print(tensor_1d.shape)  # shape\n",
    "print(tensor_1d.size()) # shape"
   ]
  },
  {
   "cell_type": "code",
   "execution_count": null,
   "id": "6df6facd",
   "metadata": {},
   "outputs": [
    {
     "name": "stdout",
     "output_type": "stream",
     "text": [
      "tensor(1) tensor(2) tensor(5)\n",
      "tensor([3, 4, 5]) tensor([], dtype=torch.int64)\n",
      "tensor([1, 2]) tensor([4, 5])\n"
     ]
    }
   ],
   "source": [
    "print(tensor_1d[0], tensor_1d[1], tensor_1d[-1])  # 인덱스로 접근\n",
    "print(tensor_1d[2:5], tensor_1d[4:-1])    # 슬라이싱\n",
    "print(tensor_1d[:2], tensor_1d[3:])       # 슬라이싱"
   ]
  },
  {
   "cell_type": "code",
   "execution_count": 22,
   "id": "ff9a355b",
   "metadata": {},
   "outputs": [
    {
     "name": "stdout",
     "output_type": "stream",
     "text": [
      "tensor([[ 1.,  2.,  3.],\n",
      "        [ 4.,  5.,  6.],\n",
      "        [ 7.,  8.,  9.],\n",
      "        [10., 11., 12.]])\n"
     ]
    }
   ],
   "source": [
    "tensor_2d = torch.FloatTensor([[1., 2., 3.],\n",
    "                       [4., 5., 6.],\n",
    "                       [7., 8., 9.],\n",
    "                       [10., 11., 12.]\n",
    "                      ])\n",
    "print(tensor_2d)\n"
   ]
  },
  {
   "cell_type": "code",
   "execution_count": 23,
   "id": "e0307182",
   "metadata": {},
   "outputs": [
    {
     "name": "stdout",
     "output_type": "stream",
     "text": [
      "2\n",
      "torch.Size([4, 3])\n"
     ]
    }
   ],
   "source": [
    "print(tensor_2d.dim())  # rank. 즉, 차원\n",
    "print(tensor_2d.size()) # shape"
   ]
  },
  {
   "cell_type": "code",
   "execution_count": 24,
   "id": "8c4de68f",
   "metadata": {},
   "outputs": [
    {
     "name": "stdout",
     "output_type": "stream",
     "text": [
      "tensor([[ 1.,  2.],\n",
      "        [ 4.,  5.],\n",
      "        [ 7.,  8.],\n",
      "        [10., 11.]])\n"
     ]
    }
   ],
   "source": [
    "print(tensor_2d[:, :-1]) # 첫번째 차원을 전체 선택한 상황에서 두번째 차원에서는 맨 마지막에서 첫번째를 제외하고 다 가져온다."
   ]
  },
  {
   "cell_type": "markdown",
   "id": "4e0ff3a3",
   "metadata": {},
   "source": [
    "\n",
    "\n",
    "### 2) 파이토치 패키지의 기본 구성\n",
    "\n",
    "1. ```torch```\n",
    "    * 메인 네임스페이스. 텐서 등의 다양한 수학 함수가 포함되어져 있으며 Numpy와 유사한 구조\n",
    "2. ```torch.autograd```\n",
    "    * 자동 미분을 위한 함수들이 포함\n",
    "3. ```torch.nn```\n",
    "    * 신경망을 구축하기 위한 다양한 데이터 구조나 레이어 등이 정의되어 있음\n",
    "4. ```torch.optim```\n",
    "    * 확률적 경사 하강법 (Stochastic Gradient Descent, SGD)를 중심으로 한 파라미터 최적화 알고리즘이 구현되어 있음.\n",
    "5. ```torch.utils.data```\n",
    "    * SGD의 반복 연산을 실행할 때 사용하는 미니 배치용 유틸리티 함수가 포함.\n",
    "6. ```torch.onnx```\n",
    "    * ONNX(Open Neural Network Exchange)의 포맷으로 모델을 익스포트(export)할 때 사용. ONNX는 서로 다른 딥 러닝 프레임워크 간에 모델을 공유할 때 사용하는 포맷.\n",
    "\n",
    "\n",
    "### 3) 계산 그래프\n",
    "* 파이토치는 유향 비순환 그래프(Directed Acyclic Graph, DAG)를 기반으로 계산을 수행\n",
    "    - 노드(node): 변수(텐서 등)를 의미\n",
    "    - 엣지(edge): 연산(곱하기, 더하기 등)을 의미\n",
    "\n",
    "<center>\n",
    "\n",
    "$z=2\\times(a-b)+c$\n",
    "\n",
    "</center>\n"
   ]
  },
  {
   "cell_type": "code",
   "execution_count": 17,
   "id": "e13bdfd0",
   "metadata": {},
   "outputs": [
    {
     "data": {
      "text/html": [
       "<img src=\"https://raw.githubusercontent.com/rickiepark/ml-with-pytorch/main/ch13/figures/13_01.png\" width=\"400\"/>"
      ],
      "text/plain": [
       "<IPython.core.display.Image object>"
      ]
     },
     "execution_count": 17,
     "metadata": {},
     "output_type": "execute_result"
    }
   ],
   "source": [
    "# 파이토치 계산 그래프\n",
    "Image(url='https://raw.githubusercontent.com/rickiepark/ml-with-pytorch/main/ch13/figures/13_01.png', width=400)"
   ]
  },
  {
   "cell_type": "markdown",
   "id": "f40b2bde",
   "metadata": {},
   "source": [
    "#### 파이토치로 그래프 만들기"
   ]
  },
  {
   "cell_type": "code",
   "execution_count": 15,
   "id": "f66a6e56",
   "metadata": {},
   "outputs": [],
   "source": [
    "import torch"
   ]
  },
  {
   "cell_type": "code",
   "execution_count": null,
   "id": "f23f62f0",
   "metadata": {},
   "outputs": [
    {
     "name": "stdout",
     "output_type": "stream",
     "text": [
      "스칼라 입력: tensor(1)\n",
      "랭크 1 입력: tensor([1])\n",
      "랭크 2 입력: tensor([[1]])\n"
     ]
    }
   ],
   "source": [
    "def compute_z(a, b, c):\n",
    "    r1 = torch.sub(a, b)\n",
    "    r2 = torch.mul(r1, 2)\n",
    "    z = torch.add(r2, c)\n",
    "    return z\n",
    "\n",
    "print('스칼라 입력:', compute_z(torch.tensor(1), torch.tensor(2), torch.tensor(3)))\n",
    "print('랭크 1 입력:', compute_z(torch.tensor([1]), torch.tensor([2]), torch.tensor([3])))\n",
    "print('랭크 2 입력:', compute_z(torch.tensor([[1]]), torch.tensor([[2]]), torch.tensor([[3]])))"
   ]
  },
  {
   "cell_type": "markdown",
   "id": "a4721a7a",
   "metadata": {},
   "source": [
    "### 4) 자주 사용되는 파이토치 기능들"
   ]
  },
  {
   "cell_type": "markdown",
   "id": "8cf462c9",
   "metadata": {},
   "source": [
    "#### (1) 행렬 곱셈과 곱셈 (Matrix Multiplication and Multiplication)"
   ]
  },
  {
   "cell_type": "code",
   "execution_count": 25,
   "id": "0e846aee",
   "metadata": {},
   "outputs": [
    {
     "name": "stdout",
     "output_type": "stream",
     "text": [
      "Shape of Matrix 1:  torch.Size([2, 2])\n",
      "Shape of Matrix 2:  torch.Size([2, 1])\n",
      "tensor([[ 5.],\n",
      "        [11.]])\n"
     ]
    }
   ],
   "source": [
    "## 행렬 곱\n",
    "m1 = torch.FloatTensor([[1, 2], [3, 4]])\n",
    "m2 = torch.FloatTensor([[1], [2]])\n",
    "print('Shape of Matrix 1: ', m1.shape) # 2 x 2\n",
    "print('Shape of Matrix 2: ', m2.shape) # 2 x 1\n",
    "print(m1.matmul(m2)) # 2 x 1\n"
   ]
  },
  {
   "cell_type": "code",
   "execution_count": 26,
   "id": "0e9d7ed4",
   "metadata": {},
   "outputs": [
    {
     "name": "stdout",
     "output_type": "stream",
     "text": [
      "Shape of Matrix 1:  torch.Size([2, 2])\n",
      "Shape of Matrix 2:  torch.Size([2, 1])\n",
      "tensor([[1., 2.],\n",
      "        [6., 8.]])\n",
      "tensor([[1., 2.],\n",
      "        [6., 8.]])\n"
     ]
    }
   ],
   "source": [
    "## element-wise 곱\n",
    "m1 = torch.FloatTensor([[1, 2], [3, 4]])\n",
    "m2 = torch.FloatTensor([[1], [2]])\n",
    "print('Shape of Matrix 1: ', m1.shape) # 2 x 2\n",
    "print('Shape of Matrix 2: ', m2.shape) # 2 x 1\n",
    "print(m1 * m2) # 2 x 2\n",
    "print(m1.mul(m2))\n"
   ]
  },
  {
   "cell_type": "markdown",
   "id": "fb6ea4b0",
   "metadata": {},
   "source": [
    "**브로드캐스팅(Broadcasting)**\n",
    "* 크기가 다른 행렬 또는 텐서에 대해서 자동으로 크기를 맞춰 연산을 수행하는 기능"
   ]
  },
  {
   "cell_type": "code",
   "execution_count": 27,
   "id": "ab179ab9",
   "metadata": {},
   "outputs": [
    {
     "name": "stdout",
     "output_type": "stream",
     "text": [
      "tensor([[4., 5.]])\n"
     ]
    }
   ],
   "source": [
    "# Vector + scalar\n",
    "m1 = torch.FloatTensor([[1, 2]])\n",
    "m2 = torch.FloatTensor([3]) # [3] -> [3, 3]\n",
    "print(m1 + m2)\n"
   ]
  },
  {
   "cell_type": "code",
   "execution_count": 28,
   "id": "4ec2ba4f",
   "metadata": {},
   "outputs": [
    {
     "name": "stdout",
     "output_type": "stream",
     "text": [
      "tensor([[4., 5.],\n",
      "        [5., 6.]])\n"
     ]
    }
   ],
   "source": [
    "# 2 x 1 Vector + 1 x 2 Vector\n",
    "m1 = torch.FloatTensor([[1, 2]])\n",
    "m2 = torch.FloatTensor([[3], [4]])\n",
    "print(m1 + m2)\n"
   ]
  },
  {
   "cell_type": "markdown",
   "id": "379d3b07",
   "metadata": {},
   "source": [
    "#### (2) 평균(Mean)"
   ]
  },
  {
   "cell_type": "code",
   "execution_count": 31,
   "id": "a0d4be41",
   "metadata": {},
   "outputs": [
    {
     "name": "stdout",
     "output_type": "stream",
     "text": [
      "tensor([[1., 2.],\n",
      "        [3., 4.]])\n",
      "tensor(2.5000)\n"
     ]
    }
   ],
   "source": [
    "t = torch.FloatTensor([[1, 2], [3, 4]])\n",
    "print(t)\n",
    "print(t.mean())\n"
   ]
  },
  {
   "cell_type": "code",
   "execution_count": null,
   "id": "abcafe12",
   "metadata": {},
   "outputs": [
    {
     "name": "stdout",
     "output_type": "stream",
     "text": [
      "tensor([2., 3.])\n",
      "tensor([1.5000, 3.5000])\n"
     ]
    }
   ],
   "source": [
    "print(t.mean(dim=0)) # 행을 제거\n",
    "print(t.mean(dim=1)) # 열을 제거"
   ]
  },
  {
   "cell_type": "code",
   "execution_count": 34,
   "id": "57221cf5",
   "metadata": {},
   "outputs": [
    {
     "name": "stdout",
     "output_type": "stream",
     "text": [
      "tensor([1.5000, 3.5000])\n"
     ]
    }
   ],
   "source": [
    "print(t.mean(dim=-1))"
   ]
  },
  {
   "cell_type": "markdown",
   "id": "f3f85577",
   "metadata": {},
   "source": [
    "#### (3) 덧셈 (Sum)"
   ]
  },
  {
   "cell_type": "code",
   "execution_count": 29,
   "id": "e8bffeec",
   "metadata": {},
   "outputs": [
    {
     "name": "stdout",
     "output_type": "stream",
     "text": [
      "tensor([[1., 2.],\n",
      "        [3., 4.]])\n"
     ]
    }
   ],
   "source": [
    "t = torch.FloatTensor([[1, 2], [3, 4]])\n",
    "print(t)"
   ]
  },
  {
   "cell_type": "code",
   "execution_count": 30,
   "id": "f6a0e002",
   "metadata": {},
   "outputs": [
    {
     "name": "stdout",
     "output_type": "stream",
     "text": [
      "tensor(10.)\n",
      "tensor([4., 6.])\n",
      "tensor([3., 7.])\n",
      "tensor([3., 7.])\n"
     ]
    }
   ],
   "source": [
    "print(t.sum()) # 단순히 원소 전체의 덧셈을 수행\n",
    "print(t.sum(dim=0)) # 행을 제거\n",
    "print(t.sum(dim=1)) # 열을 제거\n",
    "print(t.sum(dim=-1)) # 열을 제거\n"
   ]
  },
  {
   "cell_type": "markdown",
   "id": "69f9d594",
   "metadata": {},
   "source": [
    "#### (4) 최대(Max)와 아그맥스(ArgMax)"
   ]
  },
  {
   "cell_type": "code",
   "execution_count": null,
   "id": "1dd52d81",
   "metadata": {},
   "outputs": [
    {
     "name": "stdout",
     "output_type": "stream",
     "text": [
      "tensor([[1., 2.],\n",
      "        [3., 4.]])\n"
     ]
    }
   ],
   "source": [
    "t = torch.FloatTensor([[1, 2], [3, 4]])\n",
    "print(t)"
   ]
  },
  {
   "cell_type": "code",
   "execution_count": null,
   "id": "74cb2c1a",
   "metadata": {},
   "outputs": [
    {
     "name": "stdout",
     "output_type": "stream",
     "text": [
      "tensor(4.)\n"
     ]
    }
   ],
   "source": [
    "print(t.max()) # Returns one value: max"
   ]
  },
  {
   "cell_type": "code",
   "execution_count": 38,
   "id": "270b4503",
   "metadata": {},
   "outputs": [
    {
     "name": "stdout",
     "output_type": "stream",
     "text": [
      "torch.return_types.max(\n",
      "values=tensor([3., 4.]),\n",
      "indices=tensor([1, 1]))\n"
     ]
    }
   ],
   "source": [
    "print(t.max(dim=0)) # Returns two values: max and argmax"
   ]
  },
  {
   "cell_type": "code",
   "execution_count": 39,
   "id": "06b9ae4b",
   "metadata": {},
   "outputs": [
    {
     "name": "stdout",
     "output_type": "stream",
     "text": [
      "Max:  tensor([3., 4.])\n",
      "Argmax:  tensor([1, 1])\n"
     ]
    }
   ],
   "source": [
    "print('Max: ', t.max(dim=0)[0])\n",
    "print('Argmax: ', t.max(dim=0)[1])\n"
   ]
  },
  {
   "cell_type": "code",
   "execution_count": 40,
   "id": "3888e9e6",
   "metadata": {},
   "outputs": [
    {
     "name": "stdout",
     "output_type": "stream",
     "text": [
      "torch.return_types.max(\n",
      "values=tensor([2., 4.]),\n",
      "indices=tensor([1, 1]))\n",
      "torch.return_types.max(\n",
      "values=tensor([2., 4.]),\n",
      "indices=tensor([1, 1]))\n"
     ]
    }
   ],
   "source": [
    "print(t.max(dim=1))\n",
    "print(t.max(dim=-1))\n"
   ]
  },
  {
   "cell_type": "markdown",
   "id": "6bb6a460",
   "metadata": {},
   "source": [
    "#### (5) 뷰(View) - 원소의 수를 유지하면서 텐서의 크기 변경. 매우 중요!\n",
    "\n",
    "넘파이에서의 ```reshape```와 같은 역할. 텐서의 크기 변경"
   ]
  },
  {
   "cell_type": "code",
   "execution_count": 42,
   "id": "9ee0bbeb",
   "metadata": {},
   "outputs": [
    {
     "name": "stdout",
     "output_type": "stream",
     "text": [
      "torch.Size([2, 2, 3])\n"
     ]
    }
   ],
   "source": [
    "t = np.array([[[0, 1, 2],\n",
    "               [3, 4, 5]],\n",
    "              [[6, 7, 8],\n",
    "               [9, 10, 11]]])\n",
    "ft = torch.FloatTensor(t)\n",
    "print(ft.shape)  # (2, 2, 3)"
   ]
  },
  {
   "cell_type": "code",
   "execution_count": 43,
   "id": "0f95e556",
   "metadata": {},
   "outputs": [
    {
     "name": "stdout",
     "output_type": "stream",
     "text": [
      "tensor([[ 0.,  1.,  2.],\n",
      "        [ 3.,  4.,  5.],\n",
      "        [ 6.,  7.,  8.],\n",
      "        [ 9., 10., 11.]])\n",
      "torch.Size([4, 3])\n"
     ]
    }
   ],
   "source": [
    "print(ft.view([-1, 3])) # ft라는 텐서를 (?, 3)의 크기로 변경\n",
    "print(ft.view([-1, 3]).shape)\n"
   ]
  },
  {
   "cell_type": "markdown",
   "id": "e2f016c4",
   "metadata": {},
   "source": [
    "* view는 기본적으로 변경 전과 변경 후의 텐서 안의 원소의 개수가 유지되어야 함\n",
    "* 파이토치의 view는 사이즈가 -1로 설정되면 다른 차원으로부터 해당 값을 유추"
   ]
  },
  {
   "cell_type": "code",
   "execution_count": 44,
   "id": "e58beb55",
   "metadata": {},
   "outputs": [
    {
     "name": "stdout",
     "output_type": "stream",
     "text": [
      "tensor([[[ 0.,  1.,  2.]],\n",
      "\n",
      "        [[ 3.,  4.,  5.]],\n",
      "\n",
      "        [[ 6.,  7.,  8.]],\n",
      "\n",
      "        [[ 9., 10., 11.]]])\n",
      "torch.Size([4, 1, 3])\n"
     ]
    }
   ],
   "source": [
    "print(ft.view([-1, 1, 3]))\n",
    "print(ft.view([-1, 1, 3]).shape)"
   ]
  },
  {
   "cell_type": "markdown",
   "id": "7950409f",
   "metadata": {},
   "source": [
    "#### (6) 스퀴즈(Squeeze)와 언스퀴즈(Unsqueeze)\n",
    "\n",
    "* 스퀴즈(Squeeze): 1인 차원을 제거\n",
    "* 언스퀴즈(Unsqueeze): 특정 위치에 1인 차원을 추가"
   ]
  },
  {
   "cell_type": "code",
   "execution_count": 45,
   "id": "7412f255",
   "metadata": {},
   "outputs": [
    {
     "name": "stdout",
     "output_type": "stream",
     "text": [
      "tensor([[0.],\n",
      "        [1.],\n",
      "        [2.]])\n",
      "torch.Size([3, 1])\n"
     ]
    }
   ],
   "source": [
    "ft = torch.FloatTensor([[0], [1], [2]])\n",
    "print(ft)\n",
    "print(ft.shape)\n"
   ]
  },
  {
   "cell_type": "code",
   "execution_count": null,
   "id": "e46e8638",
   "metadata": {},
   "outputs": [
    {
     "name": "stdout",
     "output_type": "stream",
     "text": [
      "tensor([0., 1., 2.])\n",
      "torch.Size([3])\n"
     ]
    }
   ],
   "source": [
    "## Squeeze\n",
    "print(ft.squeeze())\n",
    "print(ft.squeeze().shape)\n"
   ]
  },
  {
   "cell_type": "code",
   "execution_count": 47,
   "id": "b6b8a910",
   "metadata": {},
   "outputs": [
    {
     "name": "stdout",
     "output_type": "stream",
     "text": [
      "torch.Size([3])\n"
     ]
    }
   ],
   "source": [
    "ft = torch.Tensor([0, 1, 2])\n",
    "print(ft.shape)"
   ]
  },
  {
   "cell_type": "code",
   "execution_count": null,
   "id": "b1c8d8c5",
   "metadata": {},
   "outputs": [
    {
     "name": "stdout",
     "output_type": "stream",
     "text": [
      "tensor([[0., 1., 2.]])\n",
      "torch.Size([1, 3])\n"
     ]
    }
   ],
   "source": [
    "## Unsqueeze\n",
    "print(ft.unsqueeze(0)) # 인덱스가 0부터 시작하므로 0은 첫번째 차원을 의미한다.\n",
    "print(ft.unsqueeze(0).shape)"
   ]
  },
  {
   "cell_type": "code",
   "execution_count": 50,
   "id": "255acc10",
   "metadata": {},
   "outputs": [
    {
     "name": "stdout",
     "output_type": "stream",
     "text": [
      "tensor([[0., 1., 2.]])\n",
      "torch.Size([1, 3])\n"
     ]
    }
   ],
   "source": [
    "## View와 Unsqueeze가 같은 결과\n",
    "print(ft.view(1, -1))\n",
    "print(ft.view(1, -1).shape)\n"
   ]
  },
  {
   "cell_type": "code",
   "execution_count": 51,
   "id": "da2ecece",
   "metadata": {},
   "outputs": [
    {
     "name": "stdout",
     "output_type": "stream",
     "text": [
      "tensor([[0.],\n",
      "        [1.],\n",
      "        [2.]])\n",
      "torch.Size([3, 1])\n"
     ]
    }
   ],
   "source": [
    "print(ft.unsqueeze(1))\n",
    "print(ft.unsqueeze(1).shape)"
   ]
  },
  {
   "cell_type": "code",
   "execution_count": 52,
   "id": "50011beb",
   "metadata": {},
   "outputs": [
    {
     "name": "stdout",
     "output_type": "stream",
     "text": [
      "tensor([[0.],\n",
      "        [1.],\n",
      "        [2.]])\n",
      "torch.Size([3, 1])\n"
     ]
    }
   ],
   "source": [
    "print(ft.unsqueeze(-1))\n",
    "print(ft.unsqueeze(-1).shape)\n"
   ]
  },
  {
   "cell_type": "markdown",
   "id": "c577579d",
   "metadata": {},
   "source": [
    "#### (7) 연결하기(concatenate)"
   ]
  },
  {
   "cell_type": "code",
   "execution_count": 53,
   "id": "ab912ff2",
   "metadata": {},
   "outputs": [],
   "source": [
    "x = torch.FloatTensor([[1, 2], [3, 4]])\n",
    "y = torch.FloatTensor([[5, 6], [7, 8]])\n"
   ]
  },
  {
   "cell_type": "code",
   "execution_count": null,
   "id": "f2801359",
   "metadata": {},
   "outputs": [
    {
     "name": "stdout",
     "output_type": "stream",
     "text": [
      "tensor([[1., 2.],\n",
      "        [3., 4.],\n",
      "        [5., 6.],\n",
      "        [7., 8.]])\n"
     ]
    }
   ],
   "source": [
    "## cat 함수로 텐서 연결하기\n",
    "print(torch.cat([x, y]))"
   ]
  },
  {
   "cell_type": "code",
   "execution_count": 54,
   "id": "1a01017a",
   "metadata": {},
   "outputs": [
    {
     "name": "stdout",
     "output_type": "stream",
     "text": [
      "tensor([[1., 2.],\n",
      "        [3., 4.],\n",
      "        [5., 6.],\n",
      "        [7., 8.]])\n"
     ]
    }
   ],
   "source": [
    "print(torch.cat([x, y], dim=0))"
   ]
  },
  {
   "cell_type": "code",
   "execution_count": 55,
   "id": "a9c7ce02",
   "metadata": {},
   "outputs": [
    {
     "name": "stdout",
     "output_type": "stream",
     "text": [
      "tensor([[1., 2., 5., 6.],\n",
      "        [3., 4., 7., 8.]])\n"
     ]
    }
   ],
   "source": [
    "print(torch.cat([x, y], dim=1))"
   ]
  },
  {
   "cell_type": "code",
   "execution_count": 58,
   "id": "ac9358a4",
   "metadata": {},
   "outputs": [],
   "source": [
    "## stack 함수로 텐서 연결하기\n",
    "x = torch.FloatTensor([1, 4])\n",
    "y = torch.FloatTensor([2, 5])\n",
    "z = torch.FloatTensor([3, 6])"
   ]
  },
  {
   "cell_type": "code",
   "execution_count": 59,
   "id": "eff4be94",
   "metadata": {},
   "outputs": [
    {
     "name": "stdout",
     "output_type": "stream",
     "text": [
      "tensor([[1., 4.],\n",
      "        [2., 5.],\n",
      "        [3., 6.]])\n"
     ]
    }
   ],
   "source": [
    "print(torch.stack([x, y, z]))"
   ]
  },
  {
   "cell_type": "code",
   "execution_count": 60,
   "id": "4efdccb1",
   "metadata": {},
   "outputs": [
    {
     "data": {
      "text/html": [
       "<img src=\"https://raw.githubusercontent.com/Hyelim-Shin/AIdev/Images/stack.png\" width=\"200\"/>"
      ],
      "text/plain": [
       "<IPython.core.display.Image object>"
      ]
     },
     "execution_count": 69,
     "metadata": {},
     "output_type": "execute_result"
    }
   ],
   "source": [
    "Image(url='https://raw.githubusercontent.com/Hyelim-Shin/AIdev/Images/stack.png', width=200)"
   ]
  },
  {
   "cell_type": "code",
   "execution_count": 61,
   "id": "f833980b",
   "metadata": {},
   "outputs": [
    {
     "name": "stdout",
     "output_type": "stream",
     "text": [
      "tensor([[1., 4.],\n",
      "        [2., 5.],\n",
      "        [3., 6.]])\n"
     ]
    }
   ],
   "source": [
    "print(torch.cat([x.unsqueeze(0), y.unsqueeze(0), z.unsqueeze(0)], dim=0))"
   ]
  },
  {
   "cell_type": "code",
   "execution_count": 62,
   "id": "79b41433",
   "metadata": {},
   "outputs": [
    {
     "name": "stdout",
     "output_type": "stream",
     "text": [
      "tensor([[1., 2., 3.],\n",
      "        [4., 5., 6.]])\n"
     ]
    }
   ],
   "source": [
    "print(torch.stack([x, y, z], dim=1))"
   ]
  },
  {
   "cell_type": "markdown",
   "id": "b1e217c6",
   "metadata": {},
   "source": [
    "#### (8) ones_like와 zeros_like"
   ]
  },
  {
   "cell_type": "code",
   "execution_count": 63,
   "id": "db00b9e1",
   "metadata": {},
   "outputs": [
    {
     "name": "stdout",
     "output_type": "stream",
     "text": [
      "tensor([[0., 1., 2.],\n",
      "        [2., 1., 0.]])\n"
     ]
    }
   ],
   "source": [
    "x = torch.FloatTensor([[0, 1, 2], [2, 1, 0]])\n",
    "print(x)"
   ]
  },
  {
   "cell_type": "code",
   "execution_count": 64,
   "id": "4612780f",
   "metadata": {},
   "outputs": [
    {
     "name": "stdout",
     "output_type": "stream",
     "text": [
      "tensor([[1., 1., 1.],\n",
      "        [1., 1., 1.]])\n"
     ]
    }
   ],
   "source": [
    "print(torch.ones_like(x)) # 입력 텐서와 크기를 동일하게 하면서 값을 1로 채우기"
   ]
  },
  {
   "cell_type": "code",
   "execution_count": 65,
   "id": "cb32787a",
   "metadata": {},
   "outputs": [
    {
     "name": "stdout",
     "output_type": "stream",
     "text": [
      "tensor([[0., 0., 0.],\n",
      "        [0., 0., 0.]])\n"
     ]
    }
   ],
   "source": [
    "print(torch.zeros_like(x)) # 입력 텐서와 크기를 동일하게 하면서 값을 0으로 채우기"
   ]
  },
  {
   "cell_type": "code",
   "execution_count": null,
   "id": "07546740",
   "metadata": {},
   "outputs": [],
   "source": []
  }
 ],
 "metadata": {
  "kernelspec": {
   "display_name": "py310",
   "language": "python",
   "name": "python3"
  },
  "language_info": {
   "codemirror_mode": {
    "name": "ipython",
    "version": 3
   },
   "file_extension": ".py",
   "mimetype": "text/x-python",
   "name": "python",
   "nbconvert_exporter": "python",
   "pygments_lexer": "ipython3",
   "version": "3.10.18"
  }
 },
 "nbformat": 4,
 "nbformat_minor": 5
}
